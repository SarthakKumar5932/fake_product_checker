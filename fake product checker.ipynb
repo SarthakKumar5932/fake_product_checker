{
 "cells": [
  {
   "cell_type": "code",
   "execution_count": 7,
   "id": "a575e9ea-da22-431c-9df6-3a1c83538acc",
   "metadata": {},
   "outputs": [
    {
     "name": "stdout",
     "output_type": "stream",
     "text": [
      "========================================\n",
      "🌟 Welcome to the Amazing Fake Product Checker 🌟\n",
      "========================================\n"
     ]
    },
    {
     "name": "stdin",
     "output_type": "stream",
     "text": [
      "🚀 Please Enter Your Product ID:  asda\n"
     ]
    },
    {
     "name": "stdout",
     "output_type": "stream",
     "text": [
      "\n",
      "🚫 Result: Oops! Fake Product Detected! 🚫\n",
      "========================================\n",
      "✨ Thanks for using the Fake Product Checker! ✨\n",
      "========================================\n"
     ]
    }
   ],
   "source": [
    "print(\"=\" * 40)\n",
    "print(\"🌟 Welcome to the Amazing Fake Product Checker 🌟\")\n",
    "print(\"=\" * 40)\n",
    "\n",
    "verified_products = [\"ABC123\", \"GHG422\", \"QWE211\", \"FJJ215\", \"1234\", \"SDFH\", \"56734\", \"GATE1\"]\n",
    "\n",
    "product_id = input(\"🚀 Please Enter Your Product ID: \").strip().upper()\n",
    "\n",
    "if product_id in verified_products:\n",
    "    print(\"\\n🎉 Result: Yes! Verified Product! 🎉\")\n",
    "else:\n",
    "    print(\"\\n🚫 Result: Oops! Fake Product Detected! 🚫\")\n",
    "\n",
    "print(\"=\" * 40)\n",
    "print(\"✨ Thanks for using the Fake Product Checker! ✨\")\n",
    "print(\"=\" * 40)"
   ]
  },
  {
   "cell_type": "code",
   "execution_count": null,
   "id": "9d48aaf5-2751-43da-a051-d112a154a56e",
   "metadata": {},
   "outputs": [],
   "source": []
  }
 ],
 "metadata": {
  "kernelspec": {
   "display_name": "Python [conda env:base] *",
   "language": "python",
   "name": "conda-base-py"
  },
  "language_info": {
   "codemirror_mode": {
    "name": "ipython",
    "version": 3
   },
   "file_extension": ".py",
   "mimetype": "text/x-python",
   "name": "python",
   "nbconvert_exporter": "python",
   "pygments_lexer": "ipython3",
   "version": "3.12.7"
  }
 },
 "nbformat": 4,
 "nbformat_minor": 5
}
